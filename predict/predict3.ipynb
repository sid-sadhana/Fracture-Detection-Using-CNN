{
 "cells": [
  {
   "cell_type": "code",
   "execution_count": 1,
   "metadata": {},
   "outputs": [],
   "source": [
    "#giving good output but partially working on images from web"
   ]
  },
  {
   "cell_type": "code",
   "execution_count": 5,
   "metadata": {},
   "outputs": [
    {
     "name": "stdout",
     "output_type": "stream",
     "text": [
      "Prediction for C:\\Users\\srisi\\OneDrive\\Desktop\\sidxt\\showcase\\Fracture-Detection-Using-CNN\\archive\\dataset\\test\\fractured\\8 - Copy.jpg: \n",
      "Fracture\n"
     ]
    }
   ],
   "source": [
    "import torch\n",
    "import torch.nn as nn\n",
    "import torch.nn.functional as F\n",
    "from torchvision import transforms\n",
    "from PIL import Image\n",
    "\n",
    "transform = transforms.Compose([\n",
    "    transforms.Resize((224, 224)),\n",
    "    transforms.Grayscale(),\n",
    "    transforms.RandomHorizontalFlip(),\n",
    "    transforms.ToTensor(),\n",
    "    transforms.Normalize(mean=[0.485], std=[0.229])\n",
    "])\n",
    "\n",
    "def load_model(model_path):\n",
    "    checkpoint = torch.load(model_path)\n",
    "    conv1 = nn.Conv2d(1, 32, 3)\n",
    "    conv2 = nn.Conv2d(32, 64, 3)\n",
    "    conv3 = nn.Conv2d(64, 128, 3)\n",
    "    fc1 = nn.Linear(128 * 26 * 26, 256)\n",
    "    fc2 = nn.Linear(256, 128)\n",
    "    fc3 = nn.Linear(128, 1)\n",
    "    \n",
    "    conv1.load_state_dict(checkpoint['conv1_state_dict'])\n",
    "    conv2.load_state_dict(checkpoint['conv2_state_dict'])\n",
    "    conv3.load_state_dict(checkpoint['conv3_state_dict'])\n",
    "    fc1.load_state_dict(checkpoint['fc1_state_dict'])\n",
    "    fc2.load_state_dict(checkpoint['fc2_state_dict'])\n",
    "    fc3.load_state_dict(checkpoint['fc3_state_dict'])\n",
    "    \n",
    "    model = nn.Sequential(\n",
    "        conv1, nn.LeakyReLU(),\n",
    "        nn.MaxPool2d(2),\n",
    "        conv2, nn.LeakyReLU(),\n",
    "        nn.MaxPool2d(2),\n",
    "        conv3, nn.LeakyReLU(),\n",
    "        nn.MaxPool2d(2),\n",
    "        nn.Flatten(),\n",
    "        fc1, nn.LeakyReLU(),\n",
    "        fc2, nn.LeakyReLU(),\n",
    "        fc3, nn.Sigmoid()\n",
    "    )\n",
    "    \n",
    "    model.eval()\n",
    "    return model\n",
    "\n",
    "def preprocess_image(image_path):\n",
    "    image = Image.open(image_path)\n",
    "    image = transform(image).unsqueeze(0)  \n",
    "    return image\n",
    "\n",
    "def predict_fracture(image_path, model):\n",
    "    image_tensor = preprocess_image(image_path)\n",
    "    with torch.no_grad():\n",
    "        output = model(image_tensor)\n",
    "        prediction = torch.round(output).item()  \n",
    "        if prediction == 1:\n",
    "            return \"\\nNo Fracture\"\n",
    "        else:\n",
    "            return \"\\nFracture\"\n",
    "\n",
    "if __name__ == \"__main__\":\n",
    "    model_path = r'C:\\Users\\srisi\\OneDrive\\Desktop\\sidxt\\showcase\\Fracture-Detection-Using-CNN\\main.pth'\n",
    "    image_path = r'C:\\Users\\srisi\\OneDrive\\Desktop\\sidxt\\showcase\\Fracture-Detection-Using-CNN\\archive\\dataset\\test\\fractured\\8 - Copy.jpg'\n",
    "    \n",
    "    model = load_model(model_path)\n",
    "    \n",
    "    result = predict_fracture(image_path, model)\n",
    "    print(f\"Prediction for {image_path}: {result}\")"
   ]
  }
 ],
 "metadata": {
  "kernelspec": {
   "display_name": ".venv",
   "language": "python",
   "name": "python3"
  },
  "language_info": {
   "codemirror_mode": {
    "name": "ipython",
    "version": 3
   },
   "file_extension": ".py",
   "mimetype": "text/x-python",
   "name": "python",
   "nbconvert_exporter": "python",
   "pygments_lexer": "ipython3",
   "version": "3.12.4"
  }
 },
 "nbformat": 4,
 "nbformat_minor": 2
}
